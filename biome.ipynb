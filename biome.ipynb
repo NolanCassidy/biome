{
 "cells": [
  {
   "cell_type": "markdown",
   "metadata": {
    "deletable": true,
    "editable": true
   },
   "source": [
    "# <span style=\"color:teal;\">CIS 211 Project 8:  &nbsp; Bears and Fish</span>"
   ]
  },
  {
   "cell_type": "markdown",
   "metadata": {
    "deletable": true,
    "editable": true
   },
   "source": [
    "##### Due 11:00 P.M. Thursday Mar 16"
   ]
  },
  {
   "cell_type": "markdown",
   "metadata": {
    "deletable": true,
    "editable": true
   },
   "source": [
    "##### <span style=\"color:red\">Group Members:</span>"
   ]
  },
  {
   "cell_type": "markdown",
   "metadata": {
    "deletable": true,
    "editable": true
   },
   "source": [
    "Group work is allowed for this project, but groups are exepcted to do more work (see markdown cells at the end of the notebook for suggestions and ideas).  \n",
    "\n",
    "If you work in a group only one group member should upload this notebook to Canvas.  Edit this cell to include the name and DuckID for each member of the group:"
   ]
  },
  {
   "cell_type": "markdown",
   "metadata": {
    "deletable": true,
    "editable": true,
    "nbgrader": {
     "grade": false,
     "locked": false,
     "points": 0,
     "solution": false
    }
   },
   "source": [
    "Nolan Cassidy 951555049\n",
    "\n",
    "**Name:**\n",
    "\n",
    "**Name:**"
   ]
  },
  {
   "cell_type": "markdown",
   "metadata": {
    "deletable": true,
    "editable": true
   },
   "source": [
    "##  <span style=\"color:teal;\">Overview</span> "
   ]
  },
  {
   "cell_type": "markdown",
   "metadata": {
    "deletable": true,
    "editable": true
   },
   "source": [
    "The last project this term is a cellular automaton style biological simulation.  \n",
    "\n",
    "The sytem is described in Chapter 11 of the Miller and Ranum text.  **Read the description of the simulation in the textbook before you start working on this project.**  Your code will be quite a bit different than the code in the book, but the rules of the simulation are the same, and you need to know how objects interact.\n",
    "\n",
    "The project has three main parts:\n",
    "* A class named World that defines a 2D grid where cells are accessed according to their row and column coordinates\n",
    "* Classes for Bear and Fish, the organisms that can inhabit the world\n",
    "* Two top level functions, `wbf` and `step_system`; the first will make a world and populate it at random with bears and fish, and the second will run a simulation using that world.\n",
    "\n",
    "We're written `step_system` for you -- it's in the last code cell in this notebook -- but you need to design, implement, and test the classes and the `wbf` function."
   ]
  },
  {
   "cell_type": "markdown",
   "metadata": {
    "deletable": true,
    "editable": true
   },
   "source": [
    "##  <span style=\"color:teal;\">Libraries</span> "
   ]
  },
  {
   "cell_type": "markdown",
   "metadata": {
    "deletable": true,
    "editable": true
   },
   "source": [
    "Your program will need to use `numpy` (a numeric processing library) and `random` (the builtin random number generator module).  You can import additional modules if you wish; add the import statements to this code cell."
   ]
  },
  {
   "cell_type": "code",
   "execution_count": 1,
   "metadata": {
    "collapsed": false,
    "deletable": true,
    "editable": true
   },
   "outputs": [],
   "source": [
    "import numpy as np\n",
    "import random"
   ]
  },
  {
   "cell_type": "markdown",
   "metadata": {
    "deletable": true,
    "editable": true
   },
   "source": [
    "##  <span style=\"color:teal;\">Event Log</span> "
   ]
  },
  {
   "cell_type": "markdown",
   "metadata": {
    "deletable": true,
    "editable": true
   },
   "source": [
    "A useful debugging technique is to save descriptions of events in a log.  Any code in the simulator, whether it is the top level function or a method in one of your classes, can call a function named `log`, passing it a description of an event that just occurred.  Examples might be \n",
    "```\n",
    "new Fish in cell (x,y)\n",
    "```\n",
    "or \n",
    "```\n",
    "Bear in cell (x,y) eats Fish in cell (x,y)\n",
    "```\n",
    "\n",
    "The function below uses a global variable named `logging`.  If you want to take advantage of the `log` function:\n",
    "* edit the cell to set `logging` to True\n",
    "* add calls to `log` at various points in your methods\n",
    "\n",
    "Later, when doing large scale simulations, you can turn off logging simply by setting `logging` to False before you call the top level simulation function.\n",
    "\n",
    "**Note:** &nbsp; you can change the definition of the `log` function however you want, _e.g._ you can have it write log messages to a file or printadditional information."
   ]
  },
  {
   "cell_type": "code",
   "execution_count": 2,
   "metadata": {
    "collapsed": true,
    "deletable": true,
    "editable": true
   },
   "outputs": [],
   "source": [
    "logging = False\n",
    "\n",
    "def log(message):\n",
    "    if logging:\n",
    "        print(message)"
   ]
  },
  {
   "cell_type": "markdown",
   "metadata": {
    "deletable": true,
    "editable": true
   },
   "source": [
    "##  <span style=\"color:teal;\">World (20 points)</span>"
   ]
  },
  {
   "cell_type": "markdown",
   "metadata": {
    "deletable": true,
    "editable": true
   },
   "source": [
    "Describe your World class in the following markdown cell, and write the code for the class in the code cell below the markdown cell.\n",
    "\n",
    "The minimum requiremens for this class are:\n",
    "* the constructor should be passed the grid size (number of rows and columns)\n",
    "* all cells should contain `None` when the world is initialized; later they can contain references to Fish or Bear objects\n",
    "* include a method named `biota` that returns a list of Fish and Bear objects currently in the grid\n",
    "\n",
    "You should also define the methods that allow you to access a cell or store a value in a cell using Python's indexing operator.  For example, if `w` is a World object, `w[i,j]` should return the object in row `i`, column `j` (which could be None).  You should also be able to store an item in the grid by using `w[i,j]` on the left side of an assignment statement.\n",
    "\n",
    "You can have additional instance methods, class variables, or class methods.  Make sure you describe any new additions in the documentation.\n",
    "\n",
    "**Note:** &nbsp; There are no auto-grader tests for the World class; tests for this class will be done as part of the tests for the Bear and Fish classes."
   ]
  },
  {
   "cell_type": "markdown",
   "metadata": {
    "deletable": true,
    "editable": true
   },
   "source": [
    "##### <span style=color:red>Documentation</span> "
   ]
  },
  {
   "cell_type": "markdown",
   "metadata": {
    "deletable": true,
    "editable": true
   },
   "source": [
    "**Important** Write your documentation in the following markdown cell.  Do not delete or move this cell."
   ]
  },
  {
   "cell_type": "markdown",
   "metadata": {
    "deletable": false,
    "editable": true,
    "nbgrader": {
     "checksum": "01f3afaf338295648a9e34f9ecbb2a59",
     "grade": true,
     "grade_id": "world_doc",
     "locked": false,
     "points": 5,
     "solution": true
    }
   },
   "source": [
    "World class takes a max x and y. Creates an array filled will none of that size. Biota returns a list of all the non None object in the grid. moveThing places an object in a cooridinate then sets the old spot to None. addThing places an obect at a coor. delThing deletes an object from a coor and replaces it with None. lookAtLocation takes a coor and returns the object in the location. emptyLocation returns True if a spot is empty. clear makes the grid all None values. "
   ]
  },
  {
   "cell_type": "markdown",
   "metadata": {
    "deletable": true,
    "editable": true
   },
   "source": [
    "##### <span style=color:red>Code</span> "
   ]
  },
  {
   "cell_type": "markdown",
   "metadata": {
    "deletable": true,
    "editable": true
   },
   "source": [
    "**Important** Write the definition of your World class in the following code cell. Do not delete or move this cell."
   ]
  },
  {
   "cell_type": "code",
   "execution_count": 3,
   "metadata": {
    "collapsed": true,
    "deletable": false,
    "editable": true,
    "nbgrader": {
     "checksum": "e65d9e141f72678833aa23eeda28b6ac",
     "grade": true,
     "grade_id": "world",
     "locked": false,
     "points": 15,
     "solution": true
    }
   },
   "outputs": [],
   "source": [
    "class World:\n",
    "    def __init__(self, mx, my):\n",
    "        self.maxX = mx\n",
    "        self.maxY = my\n",
    "        self.grid = np.array( [None] * (self.maxX * self.maxY)).reshape(self.maxX,self.maxY)\n",
    "        self.lives = []\n",
    "       \n",
    "    def __repr__(self):\n",
    "        return repr(self.grid)\n",
    "    \n",
    "    def biota(self):\n",
    "        self.lives = []\n",
    "        return list(filter(None,[n for sublist in self.grid for n in sublist]))\n",
    "    \n",
    "    def moveThing(self,coor, newcoor):\n",
    "        self.x,self.y = coor\n",
    "        newx,newy = newcoor\n",
    "        self.grid[newy][newx] = self.grid[self.y][self.x]\n",
    "        self.grid[self.y][self.x] = None\n",
    "        \n",
    "    def addThing(self , athing, coor):\n",
    "        x,y = coor\n",
    "        self.grid[y][x] = athing\n",
    "    \n",
    "    def delThing(self, x, y):\n",
    "        self.grid[y][x] = None\n",
    "        \n",
    "    def lookAtLocation(self,coor):\n",
    "        x,y = coor\n",
    "        return self.grid[y][x]\n",
    "    \n",
    "    def emptyLocation(self,coor):\n",
    "        x,y = coor\n",
    "        return self.grid[y][x] == None\n",
    "        \n",
    "    def clear(self):\n",
    "        self.grid = np.array( [None] * (self.maxX * self.maxY)).reshape(self.maxX,self.maxY)"
   ]
  },
  {
   "cell_type": "markdown",
   "metadata": {
    "collapsed": true,
    "deletable": true,
    "editable": true
   },
   "source": [
    "## <span style=\"color:teal;\">Fish and Bears</span>"
   ]
  },
  {
   "cell_type": "markdown",
   "metadata": {
    "deletable": true,
    "editable": true
   },
   "source": [
    "To run a simulation we need to add a random collection of animals to the world.  The two types of animals in this simulation are fish and bears, and you will write class definitions named Fish and Bear that implement the behaviors of the animals."
   ]
  },
  {
   "cell_type": "markdown",
   "metadata": {
    "deletable": true,
    "editable": true
   },
   "source": [
    "### Fish Class"
   ]
  },
  {
   "cell_type": "markdown",
   "metadata": {
    "deletable": true,
    "editable": true
   },
   "source": [
    "During the simulation a Fish object needs to behave as follows:\n",
    "\n",
    "(1) Fish are susceptible to overcrowding:  if there are fish in 2 or more neighboring cells the fish dies (it's removed from the simulation)\n",
    "\n",
    "(2) A fish can reproduce if it has been alive for a certain number of time steps: a random neighboring cell is chosen, and if that cell is empty, a new fish is placed in that cell\n",
    "\n",
    "(3) A fish can move to another cell:  it picks a random direction, and if the neighboring cell in that direction is unoccupied the fish moves there\n",
    "\n",
    "The constructor for the Fish class will be passed a reference to a World object and a location, in the form of a tuple with a row number and column number (the object needs to know its location so it can look for other objects in neighboring cells).\n",
    "\n",
    "The class should include the following methods:\n",
    "* `live` implements rules 1 and 2 shown above\n",
    "* `move` implements rule 3\n",
    "* `location` returns the current grid location (row and column) of the object\n",
    "\n",
    "Define a class variable named `breed_interval` to specify how many time steps a fish must be alive before it reproduces; the initial value for this variable is 12.\n"
   ]
  },
  {
   "cell_type": "markdown",
   "metadata": {
    "deletable": true,
    "editable": true
   },
   "source": [
    "### Bear Class"
   ]
  },
  {
   "cell_type": "markdown",
   "metadata": {
    "deletable": true,
    "editable": true
   },
   "source": [
    "During the simulation a Bear object needs to behave as follows:\n",
    "\n",
    "(1) A bear looks for fish in each adjacent cell; if it finds one or more fish it eats one at random \n",
    "\n",
    "(2) If a bear has not eaten for certain number of time steps it dies (it's removed from the simulation)\n",
    "\n",
    "(3) A bear can reproduce if it has been alive for a certain number of time steps: a random neighboring cell is chosen, and if that cell is empty, a new bear is placed in that cell\n",
    "\n",
    "(4) A bear can move to another cell:  it picks a random direction, and if the neighboring cell in that direction is unoccupied the bear moves there\n",
    "\n",
    "Define a class variable named `breed_interval` to specify how many time steps a bear must be alive before it reproduces; the initial value for this variable is 8.  Define another class variable named `survive_without_food` to be the number of time steps a bear can live before it dies from starvation; the initial value for this variable is 10.\n",
    "\n",
    "The constructor will be passed a reference to a World object and a location, in the form of a tuple with a row number and column number (the object needs to know its location so it can look for other objects in neighboring cells).\n",
    "\n",
    "The class should include the following methods:\n",
    "* `live` implements rules 1, 2, and 3 shown above\n",
    "* `move` implements rule 4\n",
    "* `location` returns the current grid location (row and column) of the object"
   ]
  },
  {
   "cell_type": "markdown",
   "metadata": {
    "deletable": true,
    "editable": true
   },
   "source": [
    "### Animal (Base Class)?"
   ]
  },
  {
   "cell_type": "markdown",
   "metadata": {
    "deletable": true,
    "editable": true
   },
   "source": [
    "From the descriptions above it should be apparent that fish and bears have some things in common.\n",
    "\n",
    "For **full credit** on the coding and documnetation portions of this project you should define a class named Animal and use it as the base class for your Fish and Bear classes.  Some things to think about as you design your classes:\n",
    "* are there behaviors or operations that are common to both and that can be implemented just once in Animal?\n",
    "* perhaps a behavior or operation can be defined with a default in the Animal class, and then overridden in the derived class?\n",
    "\n",
    "One strategy you might consider is to write a complete implementation for one class, either Bear or Fish.  After you have debugged the class and it passes its unit tests you'll have a better idea of what to implement in the other class.  Then you can start moving common behaviors to the Animal class while you are writing the other derived class.\n",
    "\n",
    "You can still receive **partial credit** if you skip the Animal class and simply write completely separate Fish and Bear classes.  None of the unit tests assume there is a class named Animal."
   ]
  },
  {
   "cell_type": "markdown",
   "metadata": {
    "deletable": true,
    "editable": true
   },
   "source": [
    "### Details and Hints"
   ]
  },
  {
   "cell_type": "markdown",
   "metadata": {
    "deletable": true,
    "editable": true
   },
   "source": [
    "**Fish:** &nbsp; The way the simulation is defined a fish might be eaten before the top level simulation calls the `live` method.  Your `live` method should check to make sure the fish is still alive.  The easiest way to do this is to include an instance variable named `_alive` that is set to True when the fish is initialized and set to False when it dies.\n",
    "\n",
    "You can have additional instance methods, class variables, or class methods.  Make sure you describe any new additions in the documentation.\n",
    "\n",
    "**Animal:** &nbsp; Keep this in mind when you design the class hierarchy: every object has an attribute named ``__class__`` (with two underscores before and after the name).  It is a reference to the class an object was defined with.  As an example of how to use it, consider what would happen if we want to define `reproduce` in the Animal class so it is inherited by both Fish and Bear classes.  We need to know the value of `breed_interval` in each object's own class.  We can find this value using the expression\n",
    "```\n",
    "self.__class__.breed_interval\n",
    "```\n",
    "This will be a reference to `Fish.breed_interval` or `Bear.breed_interval`, depending on whether a `reproduce` was called with Fish object or Bear object.\n"
   ]
  },
  {
   "cell_type": "markdown",
   "metadata": {
    "collapsed": true,
    "deletable": true,
    "editable": true
   },
   "source": [
    "### <span style=\"color:teal;\">Animal (20 points)</span>"
   ]
  },
  {
   "cell_type": "markdown",
   "metadata": {
    "deletable": true,
    "editable": true
   },
   "source": [
    "##### <span style=color:red>Documentation</span> "
   ]
  },
  {
   "cell_type": "markdown",
   "metadata": {
    "deletable": true,
    "editable": true
   },
   "source": [
    "If you implement the Animal class write your documentation in the following markdown cell.  \n",
    "\n",
    "**Important** Do not delete or move this cell."
   ]
  },
  {
   "cell_type": "markdown",
   "metadata": {
    "deletable": false,
    "editable": true,
    "nbgrader": {
     "checksum": "986898dea06ca2d2febeb3ffb1074ab3",
     "grade": true,
     "grade_id": "animal_doc",
     "locked": false,
     "points": 10,
     "solution": true
    }
   },
   "source": [
    "Organism has global variables can_overcrowd, breed_interval, survive_without_food, can_eat all set to None. The class takes in a name, world and cooridinate. These are initialized and added to the world with __repr__ defined as the name. location returns the tuple of x,y. randomOffset returns a random coor one away from the curent self position. adjacent retruns a list of the coors of any non None objects adjactent to the self object. overCrowding checks if the global var is not None and if there are that many of the same objects around it. move picks a random empty location using randomOffset and then calls moveThing in the world class. live class calls  reproduce and overCrowding.\n",
    "\n",
    "Animals takes in a name, world and cooridinate and inherits Organism. It stores the amount of time a animal can live without food. eat choose a random animal if it matches can_eat, if not the animal will loose one survive_without_food. live class calls eat, reproduce and overCrowding. move finds a random open adjacent coor and moves the object there."
   ]
  },
  {
   "cell_type": "markdown",
   "metadata": {
    "deletable": true,
    "editable": true
   },
   "source": [
    "##### <span style=color:red>Code</span> "
   ]
  },
  {
   "cell_type": "markdown",
   "metadata": {
    "deletable": true,
    "editable": true
   },
   "source": [
    "If you implement the Animal class write the definition in the following code cell\n",
    "\n",
    "**Important:** &nbsp; Do not delete or move this cell."
   ]
  },
  {
   "cell_type": "code",
   "execution_count": 4,
   "metadata": {
    "collapsed": true
   },
   "outputs": [],
   "source": [
    "class Organism():\n",
    "    can_overcrowd = None\n",
    "    breed_interval = None\n",
    "    survive_without_food = None\n",
    "    can_eat = None\n",
    "    \n",
    "    def __init__(self,name, world, coor):\n",
    "        self.name = name\n",
    "        self.world = world\n",
    "        self.curcoor = coor\n",
    "        self.xpos, self.ypos = coor\n",
    "        self.world.addThing(self,coor)\n",
    "        self.adjfish=[]\n",
    "        self.adj=[]\n",
    "        self.breedspan = self.breed_interval\n",
    "        \n",
    "    def __repr__(self):\n",
    "        return repr(self.name)\n",
    "    \n",
    "    def location(self):\n",
    "        return (self.xpos,self.ypos)\n",
    "    \n",
    "    def randomOffset(self):\n",
    "        offsetList = [(-1,1),(0,1),(1,1),\n",
    "                      (-1,0)      ,(1,0),\n",
    "                      (-1,-1),(0,-1),(1,-1)]\n",
    "        randomOffsetIndex = random.randrange(len(offsetList))\n",
    "        randomOffset = offsetList[randomOffsetIndex]\n",
    "        nextx = self.xpos + randomOffset[0]\n",
    "        nexty = self.ypos + randomOffset[1]\n",
    "        coor = (nextx % self.world.maxX ,nexty % self.world.maxY)\n",
    "        return coor\n",
    "            \n",
    "    def adjacent(self):\n",
    "        self.adj=[]\n",
    "        offsetList = [(-1,1),(0,1),(1,1),\n",
    "                      (-1,0)      ,(1,0),\n",
    "                      (-1,-1),(0,-1),(1,-1)]\n",
    "        for offset in offsetList:\n",
    "            self.coor = ((self.xpos + offset[0])% self.world.maxX,(self.ypos + offset[1])% self.world.maxY)\n",
    "            if(not self.world.emptyLocation(self.coor)):\n",
    "                self.adj.append(self.world.lookAtLocation(self.coor)) \n",
    "    \n",
    "    def reproduce(self):\n",
    "        self.adjacent()\n",
    "        self.a = list(map(lambda x: x.location(), self.adj))\n",
    "        self.breed_interval = self.breed_interval-1\n",
    "        if self.breed_interval == 0:\n",
    "            self.breed_interval = self.breedspan\n",
    "            self.rcoor = self.randomOffset()\n",
    "            while self.rcoor in self.a:\n",
    "                self.rcoor = self.randomOffset()\n",
    "            self.birth(self.rcoor)\n",
    "                               \n",
    "    def overCrowding(self):\n",
    "        self.adjacent()\n",
    "        if self.can_overcrowd != None and len(list(filter(lambda x: x == self,self.adj)))>=self.can_overcrowd:\n",
    "            self.world.delThing(self.xpos, self.ypos)\n",
    "    \n",
    "    def move(self):   \n",
    "        pass\n",
    "        \n",
    "    def live(self):\n",
    "        self.reproduce()\n",
    "        self.overCrowding()"
   ]
  },
  {
   "cell_type": "code",
   "execution_count": 39,
   "metadata": {
    "collapsed": true,
    "deletable": false,
    "editable": true,
    "nbgrader": {
     "checksum": "3ab9549a288942d068326e50e49d4d3e",
     "grade": true,
     "grade_id": "animal",
     "locked": false,
     "points": 10,
     "solution": true
    }
   },
   "outputs": [],
   "source": [
    "class Animal(Organism):\n",
    "    def __init__(self,name, world, coor):\n",
    "        Organism.__init__(self, self.name,world,coor)\n",
    "        self.foodspan = self.survive_without_food \n",
    "    \n",
    "    def eat(self):\n",
    "        self.adjacent()\n",
    "        if self.survive_without_food != None:\n",
    "            if list(filter(lambda x: isinstance(x,self.can_eat),self.adj)):    \n",
    "                randomOffsetIndex = random.randrange(len(list(filter(lambda x: isinstance(x,self.can_eat),self.adj))))\n",
    "                randomOffset = list(filter(lambda x: isinstance(x,self.can_eat),self.adj))[randomOffsetIndex]\n",
    "                x,y = randomOffset.location()\n",
    "                self.world.delThing(x,y)\n",
    "                self.survive_without_food = self.foodspan\n",
    "        self.survive_without_food = self.survive_without_food-1\n",
    "        if self.survive_without_food == 0:\n",
    "            self.world.delThing(self.xpos, self.ypos)              \n",
    "    \n",
    "    def live(self):\n",
    "        self.eat()\n",
    "        self.reproduce()\n",
    "        self.overCrowding()\n",
    "        \n",
    "    def move(self):\n",
    "        self.adjacent()\n",
    "        self.rcoor = self.randomOffset()\n",
    "        self.a = list(map(lambda x: x.location(), self.adj))\n",
    "        while self.rcoor in self.a:\n",
    "            self.rcoor = self.randomOffset()\n",
    "        self.world.moveThing(self.curcoor, self.rcoor)        \n",
    "        self.xpos, self.ypos = self.rcoor\n",
    "        self.curcoor = self.rcoor\n",
    "        "
   ]
  },
  {
   "cell_type": "code",
   "execution_count": null,
   "metadata": {
    "collapsed": true
   },
   "outputs": [],
   "source": []
  },
  {
   "cell_type": "markdown",
   "metadata": {},
   "source": [
    "Plant inherits the Organism class. Global vars can_overcrowd and breed_interval set to desired values. __init__ makes a name for the object and passed it, the world and coor the the Animal class. birth creates a Fish child object at a given coor. "
   ]
  },
  {
   "cell_type": "code",
   "execution_count": 6,
   "metadata": {
    "collapsed": false,
    "deletable": false,
    "editable": true,
    "nbgrader": {
     "checksum": "e370f19380738e8e035b8a3de3696caa",
     "grade": true,
     "grade_id": "fish",
     "locked": false,
     "points": 7,
     "solution": true
    }
   },
   "outputs": [],
   "source": [
    "class Plant(Organism):\n",
    "    can_overcrowd = 5\n",
    "    breed_interval = 5\n",
    "    def __init__(self, world, coor):\n",
    "        self.name = '🌱'\n",
    "        Organism.__init__(self, self.name,world,coor)\n",
    "        \n",
    "    def birth(self,coor):\n",
    "        childThing = Plant(self.world,coor)"
   ]
  },
  {
   "cell_type": "markdown",
   "metadata": {
    "collapsed": true,
    "deletable": true,
    "editable": true
   },
   "source": [
    "### <span style=\"color:teal;\">Fish (20 points)</span>"
   ]
  },
  {
   "cell_type": "markdown",
   "metadata": {
    "deletable": true,
    "editable": true
   },
   "source": [
    "##### <span style=color:red>Documentation</span> "
   ]
  },
  {
   "cell_type": "markdown",
   "metadata": {
    "deletable": true,
    "editable": true
   },
   "source": [
    "**Important:** &nbsp; Write the documentation for your Fish class in the following markdown cell.  Do not delete or move this cell."
   ]
  },
  {
   "cell_type": "markdown",
   "metadata": {
    "deletable": false,
    "editable": true,
    "nbgrader": {
     "checksum": "770b6a6bacc3948526ac069ce547b553",
     "grade": true,
     "grade_id": "fish_doc",
     "locked": false,
     "points": 5,
     "solution": true
    }
   },
   "source": [
    "Fish inherits the Animal class. Global vars can_overcrowd, survive_without_food, breed_interval, and can_eat set to desired values. __init__ makes a name for the object and passed it, the world and coor the the Animal class. birth creates a Fish child object at a given coor. "
   ]
  },
  {
   "cell_type": "markdown",
   "metadata": {
    "deletable": true,
    "editable": true
   },
   "source": [
    "##### <span style=color:red>Code</span> "
   ]
  },
  {
   "cell_type": "markdown",
   "metadata": {
    "deletable": true,
    "editable": true
   },
   "source": [
    "**Important:** &nbsp; Write the Python code for your Fish class in the following code cell.  Do not delete or move this cell."
   ]
  },
  {
   "cell_type": "code",
   "execution_count": 7,
   "metadata": {
    "collapsed": true
   },
   "outputs": [],
   "source": [
    "class Fish(Animal):\n",
    "    can_overcrowd = 2\n",
    "    survive_without_food = 8\n",
    "    breed_interval = 8\n",
    "    can_eat = Plant\n",
    "    def __init__(self, world, coor):\n",
    "        self.name = '🐟'\n",
    "        Animal.__init__(self, self.name,world,coor)\n",
    "        \n",
    "    def birth(self,coor):\n",
    "            childThing = Fish(self.world,coor)"
   ]
  },
  {
   "cell_type": "markdown",
   "metadata": {
    "deletable": true,
    "editable": true
   },
   "source": [
    "##### <span style=\"color:red\">Autograder Tests:</span>"
   ]
  },
  {
   "cell_type": "markdown",
   "metadata": {
    "deletable": true,
    "editable": true
   },
   "source": [
    "**Important:** &nbsp;  the code cells in this section will be used by `nbgrader` to run automated tests.  Do not move, delete or alter these cells in any way."
   ]
  },
  {
   "cell_type": "code",
   "execution_count": 8,
   "metadata": {
    "collapsed": true,
    "deletable": false,
    "editable": true,
    "nbgrader": {
     "checksum": "c32c52d57b358f858a8a11bc8345abc2",
     "grade": true,
     "grade_id": "fish_test_1",
     "locked": true,
     "points": 2,
     "solution": false
    }
   },
   "outputs": [],
   "source": [
    "# A new world has no objects\n",
    "w1 = World(5,5)\n",
    "assert len(w1.biota()) == 0\n",
    "\n",
    "# After adding a fish there should be one object\n",
    "f1 = Fish(w1, (2,2))\n",
    "assert len(w1.biota()) == 1\n",
    "\n",
    "# Test the location method\n",
    "assert f1.location() == (2,2)"
   ]
  },
  {
   "cell_type": "code",
   "execution_count": 9,
   "metadata": {
    "collapsed": false,
    "deletable": false,
    "editable": true,
    "nbgrader": {
     "checksum": "610108aff14c976d2ed17a3cd8d0fac9",
     "grade": true,
     "grade_id": "fish_test_2",
     "locked": true,
     "points": 2,
     "solution": false
    }
   },
   "outputs": [],
   "source": [
    "# Setting breed_interval to 1 should cause a fish to reproduce when live is called\n",
    "w2 = World(5,5)\n",
    "Fish.breed_interval = 1\n",
    "f2 = Fish(w2, (2,2))\n",
    "f2.live()\n",
    "assert len(w2.biota()) == 2\n",
    "\n",
    "# Reset the interval to original value for remaining tests\n",
    "Fish.breed_interval = 12"
   ]
  },
  {
   "cell_type": "code",
   "execution_count": 10,
   "metadata": {
    "collapsed": false,
    "deletable": false,
    "editable": true,
    "nbgrader": {
     "checksum": "1397054478e00a955967fa6aa32ee72c",
     "grade": true,
     "grade_id": "fish_test_3",
     "locked": true,
     "points": 2,
     "solution": false
    }
   },
   "outputs": [],
   "source": [
    "# Make three fish, the one in the middle should die from overcrowding\n",
    "w3 = World(5,5)\n",
    "f3 = Fish(w3, (2,2))\n",
    "Fish(w3, (1,1))\n",
    "Fish(w3, (3,3))\n",
    "f3.live()\n",
    "assert len(w2.biota()) == 2"
   ]
  },
  {
   "cell_type": "code",
   "execution_count": 11,
   "metadata": {
    "collapsed": false,
    "deletable": false,
    "editable": true,
    "nbgrader": {
     "checksum": "3e1ce3278dcd94d3f07d4701542b7df8",
     "grade": true,
     "grade_id": "fish_test_4",
     "locked": true,
     "points": 2,
     "solution": false
    }
   },
   "outputs": [],
   "source": [
    "# When a fish moves it should be within one cell of its original location\n",
    "w4 = World(5,5)\n",
    "f4 = Fish(w4, (2,2))\n",
    "f4.move()\n",
    "r, c = f4.location()\n",
    "assert (r,c) != (2,2)\n",
    "assert abs(r-2) <= 1 and abs(c-2) <= 1"
   ]
  },
  {
   "cell_type": "markdown",
   "metadata": {
    "deletable": true,
    "editable": true
   },
   "source": [
    "###  <span style=\"color:teal;\">Bear (20 points)</span>"
   ]
  },
  {
   "cell_type": "markdown",
   "metadata": {
    "deletable": true,
    "editable": true
   },
   "source": [
    "##### <span style=color:red>Documentation</span> "
   ]
  },
  {
   "cell_type": "markdown",
   "metadata": {
    "deletable": true,
    "editable": true
   },
   "source": [
    "**Important:** &nbsp; Write the documentation for your Bear class in the following markdown cell.  Do not delete or move this cell."
   ]
  },
  {
   "cell_type": "markdown",
   "metadata": {
    "deletable": false,
    "editable": true,
    "nbgrader": {
     "checksum": "745360994a43da361e98fe01baa7f1c2",
     "grade": true,
     "grade_id": "bear_doc",
     "locked": false,
     "points": 3,
     "solution": true
    }
   },
   "source": [
    "Bear inherits the Animal class. Global vars can_overcrowd, survive_without_food, breed_interval, and can_eat set to desired values. __init__ makes a name for the object and passed it, the world and coor the the Animal class. birth creates a Fish child object at a given coor. "
   ]
  },
  {
   "cell_type": "markdown",
   "metadata": {
    "deletable": true,
    "editable": true
   },
   "source": [
    "##### <span style=color:red>Code</span> "
   ]
  },
  {
   "cell_type": "markdown",
   "metadata": {
    "deletable": true,
    "editable": true
   },
   "source": [
    "**Important:** &nbsp; Write the Python code for your Bear class in the following code cell.  Do not delete or move this cell."
   ]
  },
  {
   "cell_type": "code",
   "execution_count": 12,
   "metadata": {
    "collapsed": true,
    "deletable": false,
    "editable": true,
    "nbgrader": {
     "checksum": "4caa2fe98c36ad7d876cb07eb412314c",
     "grade": true,
     "grade_id": "bear",
     "locked": false,
     "points": 7,
     "solution": true
    }
   },
   "outputs": [],
   "source": [
    "class Bear(Animal):\n",
    "    can_overcrowd = None\n",
    "    survive_without_food = 12\n",
    "    breed_interval = 8\n",
    "    can_eat = Fish\n",
    "    def __init__(self, world, coor):\n",
    "        self.name = '🐻'\n",
    "        Animal.__init__(self, self.name,world,coor)\n",
    "        \n",
    "    def birth(self,coor):\n",
    "            childThing = Bear(self.world,coor)"
   ]
  },
  {
   "cell_type": "markdown",
   "metadata": {
    "deletable": true,
    "editable": true
   },
   "source": [
    "##### <span style=\"color:red\">Autograder Tests:</span>"
   ]
  },
  {
   "cell_type": "markdown",
   "metadata": {
    "deletable": true,
    "editable": true
   },
   "source": [
    "**Important:** &nbsp;  the code cells in this section will be used by `nbgrader` to run automated tests.  Do not move, delete or alter these cells in any way."
   ]
  },
  {
   "cell_type": "code",
   "execution_count": 13,
   "metadata": {
    "collapsed": false,
    "deletable": false,
    "editable": true,
    "nbgrader": {
     "checksum": "02a09e90f9adc651f6c235e7b6d86f2b",
     "grade": true,
     "grade_id": "bear_test_1",
     "locked": true,
     "points": 2,
     "solution": false
    }
   },
   "outputs": [],
   "source": [
    "# Test the Bear constructor and location method\n",
    "w1 = World(5,5)\n",
    "b1 = Bear(w1, (1,1))\n",
    "assert len(w1.biota()) == 1\n",
    "assert b1.location() == (1,1)"
   ]
  },
  {
   "cell_type": "code",
   "execution_count": 14,
   "metadata": {
    "collapsed": false,
    "deletable": false,
    "editable": true,
    "nbgrader": {
     "checksum": "a93e64b15a61595e7c1320ed220d3f8f",
     "grade": true,
     "grade_id": "bear_test_2",
     "locked": true,
     "points": 2,
     "solution": false
    },
    "scrolled": true
   },
   "outputs": [],
   "source": [
    "# Repeat the reproduction test for Bears\n",
    "w2 = World(5,5)\n",
    "Bear.breed_interval = 1\n",
    "b2 = Bear(w2, (2,2))\n",
    "b2.live()\n",
    "assert len(w2.biota()) == 2\n",
    "Bear.breed_interval = 8"
   ]
  },
  {
   "cell_type": "code",
   "execution_count": 15,
   "metadata": {
    "collapsed": false,
    "deletable": false,
    "editable": true,
    "nbgrader": {
     "checksum": "9d958002c67155af5e43ba85a1b35fdc",
     "grade": true,
     "grade_id": "bear_test_3",
     "locked": true,
     "points": 2,
     "solution": false
    }
   },
   "outputs": [],
   "source": [
    "# Make fish for the bear to eat, count the number of objects after eating\n",
    "w3 = World(5,5)\n",
    "b3 = Bear(w3, (2,2))\n",
    "Fish(w3, (1,1))\n",
    "Fish(w3, (3,3))\n",
    "b3.live()\n",
    "assert len(w2.biota()) == 2"
   ]
  },
  {
   "cell_type": "code",
   "execution_count": 16,
   "metadata": {
    "collapsed": false,
    "deletable": false,
    "editable": true,
    "nbgrader": {
     "checksum": "0fedaf56b553ec43860c883ddf1cf6bb",
     "grade": true,
     "grade_id": "bear_test_4",
     "locked": true,
     "points": 2,
     "solution": false
    }
   },
   "outputs": [],
   "source": [
    "# Setting the survival limit to 1 should cause a Bear to starve \n",
    "w4 = World(5,5)\n",
    "Bear.survive_without_food = 1\n",
    "b4 = Bear(w4, (2,2))\n",
    "b4.live()\n",
    "assert len(w4.biota()) == 0"
   ]
  },
  {
   "cell_type": "code",
   "execution_count": 17,
   "metadata": {
    "collapsed": false,
    "deletable": false,
    "editable": true,
    "nbgrader": {
     "checksum": "74f0e9c757408b2f460fd4c45b260cbe",
     "grade": true,
     "grade_id": "bear_test_5",
     "locked": true,
     "points": 2,
     "solution": false
    }
   },
   "outputs": [],
   "source": [
    "# Repeat the move test for bears\n",
    "w5 = World(5,5)\n",
    "b5 = Bear(w5, (2,2))\n",
    "b5.move()\n",
    "r, c = b5.location()\n",
    "assert (r,c) != (2,2)\n",
    "assert abs(r-2) <= 1 and abs(c-2) <= 1"
   ]
  },
  {
   "cell_type": "markdown",
   "metadata": {
    "collapsed": true,
    "deletable": true,
    "editable": true
   },
   "source": [
    "##  <span style=\"color:teal;\">The `wbf` Function (10 points)</span>"
   ]
  },
  {
   "cell_type": "markdown",
   "metadata": {
    "deletable": true,
    "editable": true
   },
   "source": [
    "Fill in the body of the `wbf` function so it returns a new World object with the specified number of rows and columns and with the specified number of Bear and Fish objects at random locations.\n",
    "\n",
    "When we grade your project we will call `wbf` to make a World object and then use the main loop (implemented by `step_system`) to run the simulation.\n",
    "\n",
    "**There is no documentation requirement for the `wbf` function.**"
   ]
  },
  {
   "cell_type": "code",
   "execution_count": 18,
   "metadata": {
    "collapsed": false,
    "deletable": false,
    "editable": true,
    "nbgrader": {
     "checksum": "6a1fa83ecd382a94da88d5ff79a91af4",
     "grade": true,
     "grade_id": "wbf",
     "locked": false,
     "points": 5,
     "solution": true
    }
   },
   "outputs": [],
   "source": [
    "def wbf(nrows, ncols, nbears, nfish):\n",
    "    world = World(nrows, ncols)\n",
    "    x = random.randrange(nrows)\n",
    "    y = random.randrange(ncols)\n",
    "    \n",
    "    for n in range(nbears):\n",
    "        while not world.emptyLocation((x,y)):\n",
    "            x = random.randrange(nrows)\n",
    "            y = random.randrange(ncols)\n",
    "        Bear(world,(x,y))\n",
    "        \n",
    "    for n in range(nfish):\n",
    "        while not world.emptyLocation((x,y)):\n",
    "            x = random.randrange(nrows)\n",
    "            y = random.randrange(ncols)\n",
    "        Fish(world,(x,y))\n",
    "    \n",
    "    return world"
   ]
  },
  {
   "cell_type": "code",
   "execution_count": 19,
   "metadata": {
    "collapsed": true
   },
   "outputs": [],
   "source": [
    "def wbfp(nrows, ncols, nbears, nfish, nplants):\n",
    "    world = World(nrows, ncols)\n",
    "    x = random.randrange(nrows)\n",
    "    y = random.randrange(ncols)\n",
    "    \n",
    "    for n in range(nbears):\n",
    "        while not world.emptyLocation((x,y)):\n",
    "            x = random.randrange(nrows)\n",
    "            y = random.randrange(ncols)\n",
    "        Bear(world,(x,y))\n",
    "        \n",
    "    \n",
    "    for n in range(nfish):\n",
    "        while not world.emptyLocation((x,y)):\n",
    "            x = random.randrange(nrows)\n",
    "            y = random.randrange(ncols)\n",
    "        Fish(world,(x,y))\n",
    "        \n",
    "    for n in range(nplants):\n",
    "        while not world.emptyLocation((x,y)):\n",
    "            x = random.randrange(nrows)\n",
    "            y = random.randrange(ncols)\n",
    "        Plant(world,(x,y))\n",
    "    \n",
    "    return world"
   ]
  },
  {
   "cell_type": "markdown",
   "metadata": {
    "deletable": true,
    "editable": true
   },
   "source": [
    "##### <span style=\"color:red\">Autograder Tests:</span>"
   ]
  },
  {
   "cell_type": "markdown",
   "metadata": {
    "deletable": true,
    "editable": true
   },
   "source": [
    "**Important:** &nbsp;  the code cells in this section will be used by `nbgrader` to run automated tests.  Do not move, delete or alter these cells in any way."
   ]
  },
  {
   "cell_type": "code",
   "execution_count": 20,
   "metadata": {
    "collapsed": true,
    "deletable": false,
    "editable": true,
    "nbgrader": {
     "checksum": "492deed158bde5b6474970e982aa60fe",
     "grade": true,
     "grade_id": "wbf_test",
     "locked": true,
     "points": 5,
     "solution": false
    }
   },
   "outputs": [],
   "source": [
    "w = wbf(10,10,3,12)\n",
    "\n",
    "dct = { Bear: 0, Fish: 0 }\n",
    "for x in w.biota():\n",
    "    dct[x.__class__] += 1\n",
    "\n",
    "assert dct[Bear] == 3\n",
    "assert dct[Fish] == 12"
   ]
  },
  {
   "cell_type": "markdown",
   "metadata": {
    "collapsed": true,
    "deletable": true,
    "editable": true
   },
   "source": [
    "##  <span style=\"color:teal;\">The `step_system` Function</span>"
   ]
  },
  {
   "cell_type": "markdown",
   "metadata": {
    "deletable": true,
    "editable": true
   },
   "source": [
    "We've written this function for you.  It will run a single time step of the simulation.  Pass it a World object containing a grid populated with Bear and Fish objects and it will (a) see which animals survive, then (b) allow all the animals to move to a new location."
   ]
  },
  {
   "cell_type": "code",
   "execution_count": 21,
   "metadata": {
    "collapsed": true,
    "deletable": true,
    "editable": true
   },
   "outputs": [],
   "source": [
    "def step_system(world):\n",
    "    for x in world.biota():\n",
    "        x.live()\n",
    "    for x in world.biota():\n",
    "        x.move()"
   ]
  },
  {
   "cell_type": "markdown",
   "metadata": {
    "collapsed": true,
    "deletable": true,
    "editable": true
   },
   "source": [
    "##  <span style=\"color:teal;\">Experiments (10 points)</span>"
   ]
  },
  {
   "cell_type": "markdown",
   "metadata": {
    "deletable": true,
    "editable": true
   },
   "source": [
    "Run some experiments with the top level simulation loop and describe the results in the markdown cell below.  Some ideas of things to try:\n",
    "* The settings for the Bear class `breed_interval` and `survive_without_food` variables come from the textbook.  Will the world ever run out of bears with these settings?\n",
    "* Change the settings so `Bear.breed_interval` is larger than `Bear.survive_without_food`.  How does that change the outcome?\n",
    "* Set the `breed_interval` counter for the Fish class to a smaller number (e.g. 4) so the world has more fish.  What effect does that have?\n",
    "* Write a function that runs the simulation for a specified number of generations, or until there are no more objects left in the grid.  What combination of parameters leads to the largest number of time steps before the simulation halts?"
   ]
  },
  {
   "cell_type": "code",
   "execution_count": 69,
   "metadata": {
    "collapsed": false
   },
   "outputs": [
    {
     "data": {
      "text/plain": [
       "array([[None, None, None, None, None, None, None, '🐟', None, None],\n",
       "       [None, None, None, None, '🐟', None, None, None, None, None],\n",
       "       [None, None, None, None, None, None, None, None, None, None],\n",
       "       [None, None, None, '🐟', None, None, None, None, None, None],\n",
       "       [None, None, None, None, None, None, None, None, None, None],\n",
       "       [None, None, None, None, '🐻', None, None, '🐟', None, None],\n",
       "       [None, '🐟', '🐟', None, None, '🐟', None, None, None, None],\n",
       "       [None, None, '🐟', None, None, None, '🐟', None, None, None],\n",
       "       [None, None, None, None, None, None, None, None, '🐟', '🐟'],\n",
       "       [None, '🐻', None, None, None, None, None, '🐻', '🐟', None]], dtype=object)"
      ]
     },
     "execution_count": 69,
     "metadata": {},
     "output_type": "execute_result"
    }
   ],
   "source": [
    "Bear.breed_interval = 1\n",
    "w = wbf(10,10,3,12)\n",
    "w"
   ]
  },
  {
   "cell_type": "code",
   "execution_count": 70,
   "metadata": {
    "collapsed": false
   },
   "outputs": [
    {
     "data": {
      "text/plain": [
       "array([[None, '🐻', None, None, None, None, None, '🐟', None, None],\n",
       "       [None, None, None, None, '🐟', None, None, None, None, None],\n",
       "       [None, None, None, None, None, None, None, None, None, None],\n",
       "       [None, None, None, '🐟', None, None, None, None, None, None],\n",
       "       [None, None, None, None, '🐻', None, None, None, None, None],\n",
       "       [None, None, None, None, '🐻', None, None, '🐟', None, None],\n",
       "       [None, '🐟', '🐟', None, None, None, None, None, None, None],\n",
       "       [None, None, '🐟', None, None, None, '🐟', None, None, None],\n",
       "       [None, None, None, None, None, None, None, '🐻', None, '🐟'],\n",
       "       [None, '🐻', None, None, None, None, None, '🐻', '🐟', None]], dtype=object)"
      ]
     },
     "execution_count": 70,
     "metadata": {},
     "output_type": "execute_result"
    }
   ],
   "source": [
    "for x in w.biota():\n",
    "    x.live()\n",
    "w"
   ]
  },
  {
   "cell_type": "code",
   "execution_count": 52,
   "metadata": {
    "collapsed": false
   },
   "outputs": [
    {
     "name": "stdout",
     "output_type": "stream",
     "text": [
      "All Bears Dead\n"
     ]
    }
   ],
   "source": [
    "w = wbf(10,10,3,12)\n",
    "while Bear in w.biota():\n",
    "    step_system(w)\n",
    "print(\"All Bears Dead\")"
   ]
  },
  {
   "cell_type": "code",
   "execution_count": 53,
   "metadata": {
    "collapsed": false
   },
   "outputs": [
    {
     "name": "stdout",
     "output_type": "stream",
     "text": [
      "All Bears Dead\n"
     ]
    }
   ],
   "source": [
    "w = wbf(10,10,3,8)\n",
    "Bear.breed_interval = 16\n",
    "Bear.survive_without_food = 1\n",
    "while Bear in w.biota():\n",
    "    step_system(w)\n",
    "print(\"All Bears Dead\")"
   ]
  },
  {
   "cell_type": "code",
   "execution_count": 54,
   "metadata": {
    "collapsed": false
   },
   "outputs": [
    {
     "name": "stdout",
     "output_type": "stream",
     "text": [
      "All Bears Dead\n"
     ]
    }
   ],
   "source": [
    "w = wbf(10,10,3,12)\n",
    "Bear.breed_interval = 12\n",
    "Bear.survive_without_food = 8\n",
    "Fish.breed_interval = 1\n",
    "while Bear in w.biota():\n",
    "    step_system(w)\n",
    "print(\"All Bears Dead\")"
   ]
  },
  {
   "cell_type": "code",
   "execution_count": 62,
   "metadata": {
    "collapsed": false
   },
   "outputs": [
    {
     "name": "stdout",
     "output_type": "stream",
     "text": [
      "All Bears Dead\n"
     ]
    }
   ],
   "source": [
    "w = wbf(10,10,3,12)\n",
    "Bear.breed_interval = 1\n",
    "Bear.survive_without_food = 1000\n",
    "Fish.breed_interval = 4\n",
    "while Bear in w.biota():\n",
    "    step_system(w)\n",
    "print(\"All Bears Dead\")"
   ]
  },
  {
   "cell_type": "markdown",
   "metadata": {
    "collapsed": true,
    "deletable": false,
    "editable": true,
    "nbgrader": {
     "checksum": "cc54d46b405cd1c694c7a930f2ede888",
     "grade": true,
     "grade_id": "experiments",
     "locked": false,
     "points": 10,
     "solution": true
    }
   },
   "source": [
    "For all tests, my bears ended up dying. I used a while loop until no Bear classes were left in biota."
   ]
  },
  {
   "cell_type": "markdown",
   "metadata": {
    "collapsed": true,
    "deletable": true,
    "editable": true
   },
   "source": [
    "##  <span style=\"color:teal;\">Projects for Groups and/or Extra Credit</span>"
   ]
  },
  {
   "cell_type": "markdown",
   "metadata": {
    "deletable": true,
    "editable": true
   },
   "source": [
    "Here are some suggestions for ways to extend the simulation.  We will consider other types of extensions -- send a request to `conery@uoregon.edu` with your proposal.\n",
    "\n",
    "Groups with three people should implement two extensions.  Groups with two people can choose either extension, or do both for extra credit.\n",
    "\n",
    "* Implement the Plant class described in Section 10.7 of the textbook, and modify the Fish class so fish eat plants and die if they don't find enough food.\n",
    "\n",
    "* If you implement Plant, how does that affect the class hierarchy?  Is there an even more general class called Organism, with Plants and Animals subtypes of organism?\n",
    "\n",
    "* Experiment with data structures: make a second version of the World class, but use a list-of-lists approach to making the grid.  Which is more efficient, a list of lists or a numpy array?  Which scales better when larger worlds are used in the simulation?\n",
    "\n",
    "* Implement a GUI using `tkinter` that is similar to the Solar System GUI.  A canvas should display the world along with images for the Bear and Fish objects (you can download `Bear.gif` and `Fish.gif` from Canvas).  Use a spinbox or text entry box to specify the number of Bear and Fish objects and the number of time steps to run.  Include a Run button to start the simulation.\n"
   ]
  }
 ],
 "metadata": {
  "anaconda-cloud": {},
  "kernelspec": {
   "display_name": "Python [default]",
   "language": "python",
   "name": "python3"
  },
  "language_info": {
   "codemirror_mode": {
    "name": "ipython",
    "version": 3
   },
   "file_extension": ".py",
   "mimetype": "text/x-python",
   "name": "python",
   "nbconvert_exporter": "python",
   "pygments_lexer": "ipython3",
   "version": "3.5.2"
  }
 },
 "nbformat": 4,
 "nbformat_minor": 0
}
